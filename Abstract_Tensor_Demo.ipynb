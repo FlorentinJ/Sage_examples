{
 "cells": [
  {
   "cell_type": "markdown",
   "metadata": {},
   "source": [
    "# Tenseurs en notation indicielle\n",
    "\n",
    "\n",
    "Ce notebook montre comment manipuler des tenseurs en notation indicielle avec [SageMath](https://www.sagemath.org/)\n",
    "\n",
    "La représentation interne se fait sous la forme de graphes, à la manière des notations de Penrose. Pour une introduction à ces notations, voir par exemple :\n",
    "\n",
    "- [Birdtracks for SU(N)](https://arxiv.org/abs/1707.07280), Une introduction pédagogique à ces notations par Stefan Keppeler, avec des applications à SU(N),\n",
    "- [Group Theory](http://birdtracks.eu/), Le livre très complet de Predrag Cvitanović sur lequel est basé le précédent article,\n",
    "- [A survey of graphical languages for monoidal categories](https://www.mathstat.dal.ca/~selinger/papers/graphical.pdf) Une formalisation mathématique de ces notations dans le cas général.\n",
    "\n",
    "\n",
    "L'implémentation s'appuye sur [NetworkX](https://networkx.github.io/), une librairie de gestion de graphes, livrée avec sagemath (à vérifier, sinon un simple \"pip install\" devrait suffire).\n",
    "\n",
    "Les autres dépendances sont :\n",
    "\n",
    "   - ``Sagemath`` > 9.0 avec Python 3,\n",
    "   - ``network2tikz`` pour l'affichage des graphes, facultatif, à installer avec \"pip install network2tikz\",\n",
    "   - Les programmes ``pdflatex``, ``pdfcrop`` et ``pdftoppm``, appelés pour l'affichage des graphes, facultatifs.\n",
    "   \n",
    "Toutes les classes et fonctions sont pour l'instant définies dans le notebook ``Abstract_Tensor_Classes.ipynb``, qui initialise également quelques variables."
   ]
  },
  {
   "cell_type": "code",
   "execution_count": 1,
   "metadata": {},
   "outputs": [],
   "source": [
    "%run Abstract_Tensor_Classes.ipynb\n",
    "%display latex"
   ]
  },
  {
   "cell_type": "markdown",
   "metadata": {},
   "source": [
    "## Indices \n",
    "\n",
    "Les indices sont représentés par des variables symboliques. Certaines communément utilisée ont été définies lors de l'initialisation. Pour l'instant il s'agit de quelques lettres grecques, mais il serait intéressant d'avoir plusieurs options."
   ]
  },
  {
   "cell_type": "code",
   "execution_count": 2,
   "metadata": {},
   "outputs": [
    {
     "data": {
      "text/html": [
       "<html><script type=\"math/tex; mode=display\">\\newcommand{\\Bold}[1]{\\mathbf{#1}}\\left[\\mu, \\nu, \\rho, \\sigma, \\alpha, \\beta, \\kappa, \\theta, \\zeta, \\eta\\right]</script></html>"
      ],
      "text/plain": [
       "[mu, nu, rho, sigma, alpha, beta, kappa, theta, zeta, eta]"
      ]
     },
     "execution_count": 2,
     "metadata": {},
     "output_type": "execute_result"
    }
   ],
   "source": [
    "greek_variables"
   ]
  },
  {
   "cell_type": "code",
   "execution_count": 3,
   "metadata": {},
   "outputs": [
    {
     "data": {
      "text/html": [
       "<html><script type=\"math/tex; mode=display\">\\newcommand{\\Bold}[1]{\\mathbf{#1}}\\left(\\mu, \\nu\\right)</script></html>"
      ],
      "text/plain": [
       "(mu, nu)"
      ]
     },
     "execution_count": 3,
     "metadata": {},
     "output_type": "execute_result"
    }
   ],
   "source": [
    "mu, nu"
   ]
  },
  {
   "cell_type": "markdown",
   "metadata": {},
   "source": [
    "Au cas ou ces indices ne suffirait pas, d'autres sont également créés avec des suffixes numériques et sont injectés dans l'espace de noms, pour l'instant 50 par lettre grecque, (ce qui est un petit peu exagéré en général).\n",
    "\n",
    "TODO: Faire en sorte que ces indices ne soient pas générés à l'avance. Peut-être avec une nouvelle structure qui les distribue au fur et à mesure. Il peut aussi être imaginé de ne pas utiliser des variables symboliques, mais un autre type d'objet qui puisse être coercé vers SR en cas de besoin.\n",
    "    "
   ]
  },
  {
   "cell_type": "code",
   "execution_count": 4,
   "metadata": {},
   "outputs": [
    {
     "data": {
      "text/html": [
       "<html><script type=\"math/tex; mode=display\">\\newcommand{\\Bold}[1]{\\mathbf{#1}}\\left[\\mu, \\nu, \\rho, \\sigma, \\alpha, \\beta, \\kappa, \\theta, \\zeta, \\eta, \\mu_{1}, \\nu_{1}, \\rho_{1}, \\sigma_{1}, \\alpha_{1}, \\beta_{1}, \\kappa_{1}, \\theta_{1}, \\zeta_{1}, \\eta_{1}, \\mu_{2}, \\nu_{2}, \\rho_{2}, \\sigma_{2}, \\alpha_{2}, \\beta_{2}, \\kappa_{2}, \\theta_{2}, \\zeta_{2}, \\eta_{2}\\right]</script></html>"
      ],
      "text/plain": [
       "[mu,\n",
       " nu,\n",
       " rho,\n",
       " sigma,\n",
       " alpha,\n",
       " beta,\n",
       " kappa,\n",
       " theta,\n",
       " zeta,\n",
       " eta,\n",
       " mu_1,\n",
       " nu_1,\n",
       " rho_1,\n",
       " sigma_1,\n",
       " alpha_1,\n",
       " beta_1,\n",
       " kappa_1,\n",
       " theta_1,\n",
       " zeta_1,\n",
       " eta_1,\n",
       " mu_2,\n",
       " nu_2,\n",
       " rho_2,\n",
       " sigma_2,\n",
       " alpha_2,\n",
       " beta_2,\n",
       " kappa_2,\n",
       " theta_2,\n",
       " zeta_2,\n",
       " eta_2]"
      ]
     },
     "execution_count": 4,
     "metadata": {},
     "output_type": "execute_result"
    }
   ],
   "source": [
    "extended_greek_variables[:30]"
   ]
  },
  {
   "cell_type": "code",
   "execution_count": 5,
   "metadata": {},
   "outputs": [
    {
     "data": {
      "text/html": [
       "<html><script type=\"math/tex; mode=display\">\\newcommand{\\Bold}[1]{\\mathbf{#1}}\\theta_{48}</script></html>"
      ],
      "text/plain": [
       "theta_48"
      ]
     },
     "execution_count": 5,
     "metadata": {},
     "output_type": "execute_result"
    }
   ],
   "source": [
    "theta_48"
   ]
  },
  {
   "cell_type": "markdown",
   "metadata": {},
   "source": [
    "## Tenseurs\n",
    "\n",
    "Les tenseurs sont représentés par des fonctions symboliques, prenant le même nombre d'argument qu'ils comportent d'indices. \n",
    "\n",
    "TODO: Ajouter la possibilité que ces fonctions symboliques puisse dépendre d'argument supplémentaires, par exemple des coordonnées, ou un point d'une variété (comment le coercer à SR ?) pour représenter un champs de tenseur.\n",
    "\n",
    "Dans cet exemple, on définit ici un certain nombre de tenseurs \"de base\" :\n",
    "\n",
    "- $g^{\\mu, \\nu}$, métrique de signature impaire,\n",
    "- $\\delta$, matrice identité de dimension 4,\n",
    "- $\\epsilon^{\\mu \\nu \\rho \\sigma}$, Pseudo tenseur de Levi-Civita, dans l'une des convention de signe (laquelle ???),\n",
    "- $R^\\mu_{\\nu\\rho\\sigma}$, tenseur de Riemann, pas utilisé par la suite,\n",
    "- $\\gamma^{\\mu}$, matrice gamma de l'algèbre de Clifford de dimension 4, sans préciser le choix de représentation,\n",
    "- $\\gamma_5$, gamma_5, dans la même représentation non-précisée,\n",
    "- $p^\\mu$ et $k^\\mu$, deux vecteurs."
   ]
  },
  {
   "cell_type": "code",
   "execution_count": 6,
   "metadata": {},
   "outputs": [],
   "source": [
    "g = function('g', nargs=2)\n",
    "delta = function('delta', nargs=2, latex_name=r'\\delta')\n",
    "eps = function('eps', nargs=4, latex_name=r'\\epsilon')\n",
    "R = function('R', nargs=4, latex_name=r'R')\n",
    "dirac_gamma = function('dirac_gamma', nargs=3, latex_name=r'\\gamma')\n",
    "gamma5 = function('gamma_5', nargs=2, latex_name=r'\\gamma_5')\n",
    "p = function('p', nargs=1)\n",
    "k = function('k', nargs=1)"
   ]
  },
  {
   "cell_type": "markdown",
   "metadata": {},
   "source": [
    "BUG: Exécuter cette cellule plus d'une fois entraine des conséquences imprévisibles. Je pense que cela vient d'un problème dans l'interface entre SR et Maxima. Le code suivant devrait toujours retourner ``True``, mais ce n'est pas le cas si ``g`` a été redéfine une seconde fois. La fonction ``operator`` renvoie toujours la référence à la première fonction créée portant ce nom. Voir https://ask.sagemath.org/question/51964/ .\n",
    "\n",
    "Si la cellule suivante renvoie ``False``, il faut redémarer le noyau."
   ]
  },
  {
   "cell_type": "code",
   "execution_count": 7,
   "metadata": {},
   "outputs": [
    {
     "data": {
      "text/html": [
       "<html><script type=\"math/tex; mode=display\">\\newcommand{\\Bold}[1]{\\mathbf{#1}}\\mathrm{True}</script></html>"
      ],
      "text/plain": [
       "True"
      ]
     },
     "execution_count": 7,
     "metadata": {},
     "output_type": "execute_result"
    }
   ],
   "source": [
    "g(mu, nu).operator() is g"
   ]
  },
  {
   "cell_type": "markdown",
   "metadata": {},
   "source": [
    "## Contractions\n",
    "\n",
    "On adopte ici la convention de sommation d'Einstein pour les indices répétés. Chaque contraction doit donc se faire dans un \"espace\" particulier. Il peut s'agir d'un espace vectoriel $V$, mais également d'objets plus abstraits. Quelques exemples incluent :\n",
    "\n",
    "- L'espace de Minkowski dans la contraction $g^{\\mu \\nu}g_{\\nu \\rho}$\n",
    "- Les spineurs de dirac dans le produit $\\gamma^\\mu\\gamma^\\nu$\n",
    "- Les générateurs de SU(N) dans la dérivée covariante $\\partial_\\mu-ieT^aG^a_\\mu$\n",
    "- Les spins + ou - dans la relation de completude:\n",
    "     $$\\sum_{s=\\pm} u_s(p) \\bar{u}_s(p) = p_\\mu\\gamma^\\mu +m$$\n",
    "\n",
    "On peut bien sûr mélanger différent types d'indices dans un même tenseur, c'est le cas pour les matrices gamma par exemple.\n",
    "\n",
    "En général les arêtes sont orientées, mais si on ne distingue pas $V$ et son dual, alors l'orientation de l'arête n'a pas d'importance. Ici, un espace de contraction est simplement définit par un tuple \"(nom, dimension, identité, arêtes orienté ?)\". Dans l'exemple qui suit on utilise uniquement deux espaces : l'espace de Minkowski et celui des spineurs de Dirac. On ne fera pas la distinction entre covariant/contravariant, donc l'orientation des arêtes dans l'espace de Minkowski n'a pas d'importance.\n",
    "\n",
    "TODO: gérer correctement les indices covariants/contravariants"
   ]
  },
  {
   "cell_type": "code",
   "execution_count": 8,
   "metadata": {},
   "outputs": [],
   "source": [
    "Lo = ('Lorentz', 4, g, False)\n",
    "Di = ('Dirac', 4, delta, True)"
   ]
  },
  {
   "cell_type": "markdown",
   "metadata": {},
   "source": [
    "Il faut ensuite spécifier à quel espace correspond chaque indice de chaque tenseur. Pour ce faire on utilise un dictionnaire ``{tenseur: [(espace 1, nombre d'indices), (espace 2, nombre d'indices), ...]}``"
   ]
  },
  {
   "cell_type": "code",
   "execution_count": 9,
   "metadata": {},
   "outputs": [],
   "source": [
    "basic_tensors = {g: [(Lo, 2)], eps: [(Lo, 4)], R: [(Lo, 4)], \n",
    "                 dirac_gamma: [(Di, 2), (Lo, 1)], gamma5: [(Di, 2)], delta: [(Di, 2)],\n",
    "                 p: [(Lo, 1)], k: [(Lo, 1)]}"
   ]
  },
  {
   "cell_type": "markdown",
   "metadata": {},
   "source": [
    "Il est également important de préciser les symétries de chaque tenseur pour permettre des simplifications. les symétries sont spécifiées sous la forme d'une liste de tableaux d'Young. Chaque tableau doit comporter des chiffres allant de 0 au nombre d'indice total, sans qu'un chiffre n'apparaisse deux fois.\n",
    "\n",
    "Ici un seul tableau d'Young suffit pour chaque tenseur. Parfois plus sont nécéssaire (exemple: symétrie selon les indices 0 et 1, antisymétrie selon les indices 2 et 3).\n",
    "\n",
    "Remarque : Il est nécessaire que l'identité de chque espace de contraction soit symétrique.\n",
    "\n",
    "TODO: Rendre ça obligatoire / Le faire automatiquement"
   ]
  },
  {
   "cell_type": "code",
   "execution_count": 10,
   "metadata": {},
   "outputs": [],
   "source": [
    "sym = {g: ([[0, 1]],),\n",
    "       eps: ([[0], [1], [2], [3]],),\n",
    "       R: ([[0, 2], [1, 3]],),\n",
    "       dirac_gamma: (),\n",
    "       gamma5: (),\n",
    "       delta: ([[0, 1]],),\n",
    "       p: (), k: ()}"
   ]
  },
  {
   "cell_type": "markdown",
   "metadata": {},
   "source": [
    "Enfin, pour les tenseur comportant des indices pour lequel l'orientation des arêtes compte, il est nécessaire de préciser lequels sont entrants, et lesquels sont sortants.\n",
    "\n",
    "TODO: Trouver une meilleure manière de faire"
   ]
  },
  {
   "cell_type": "code",
   "execution_count": 11,
   "metadata": {},
   "outputs": [],
   "source": [
    "forced_in = {dirac_gamma: [0], gamma5: [0], delta: [0]}\n",
    "forced_out = {dirac_gamma: [1], gamma5: [1], delta: [1]}"
   ]
  },
  {
   "cell_type": "markdown",
   "metadata": {},
   "source": [
    "## Règles de simplifications\n",
    "\n",
    "Les règles de simplifications sont à déclarer dans un dictionnaire ``{motif: résultat}``.\n",
    "\n",
    "Les motifs doivent être un produit, éventuellement contracté, des tenseurs de bases sans aucun préfacteur. Les indices servent de wildcard.\n",
    "\n",
    "Ici, on déclare les règles suivantes permettant de simplifier n'importe quel tenseur de l'algèbre de Clifford en dimension 4 :\n",
    "\n",
    "$$\n",
    "\\begin{align}\n",
    "\\epsilon_\\mu^{\\ \\ \\mu\\nu\\rho} &= 0\\\\\n",
    "{\\rm Tr \\ } \\gamma_5 &= 0\\\\\n",
    "{\\rm Tr \\ } \\gamma^\\mu &= 0\\\\\n",
    "{\\rm Tr \\ } \\gamma^\\mu\\gamma_5 &= 0\\\\\n",
    "{\\rm Tr \\ } \\gamma^\\mu\\gamma^\\nu\\gamma_5 &= 0\\\\\n",
    "{\\rm Tr \\ } \\gamma^\\mu\\gamma^\\nu &= g^{\\mu\\nu}\\\\\n",
    "\\gamma^\\mu\\gamma_\\mu &= 4 \\ {\\rm Id}\\\\\n",
    "\\gamma_5\\gamma_5 &= {\\rm Id}\\\\\n",
    "\\gamma_5\\gamma^\\mu\\gamma_5 &= -\\gamma^\\mu\\\\\n",
    "\\gamma_5\\gamma^\\mu\\gamma^\\nu\\gamma_5& = \\gamma^\\mu\\gamma^\\nu\\\\\n",
    "\\gamma^\\mu\\gamma^\\nu\\gamma^\\rho &= g^{\\mu\\nu}\\gamma^\\rho+g^{\\nu\\rho}\\gamma^\\mu-g^{\\mu\\rho}\\gamma^\\nu-i\\epsilon^{\\mu\\nu\\rho\\sigma}\\gamma_\\sigma\\gamma_5\\\\\n",
    "\\epsilon_{\\mu\\nu\\rho\\sigma}\\epsilon_{\\alpha\\beta\\theta\\lambda} &= - g_{\\mu\\kappa}g_{\\nu\\zeta}g_{\\rho\\eta}g_{\\sigma\\iota}\\delta^{\\kappa\\zeta\\eta\\iota}_{\\alpha\\beta\\theta\\lambda}\n",
    "\\end{align}\n",
    "$$\n",
    "\n",
    "On voit immédiatement que puisque le nombre de tenseur diminue à chaque fois, un algorithme qui applique ces règles séquentiellement termine toujours.\n",
    "\n",
    "TODO: Faire en sorte que la première règle ne soit pas nécessaire (facile).  \n",
    "TODO: Faire en sorte que la dernière règle ne soit pas nécessaire (plus difficile).  \n",
    "TODO: Ajouter automatiquement les identités de Bianchi correspondant aux symmétries de chaque tenseur (attention aux boucles infinies !)  \n",
    "TODO: Vérifier automatiquement que les règles ne produisent pas de boucles infinies (possiblement impossible à cause du problème de l'arrêt, mais dans certains cas c'est évident que c'est le cas, ou que ça ne l'est pas).  \n",
    "TODO: Optimisation possible : permettre à l'utilisateur d'ordonner ces règles, pour tester en priorité les plus simple / celles qui évitent les embranchements.\n",
    "\n",
    "Puisque ``g``et ``delta`` sont identités d'espaces de contraction, les règles $g^\\mu_{\\ \\ \\mu} = 4$ et $\\delta_{\\alpha\\alpha} = 4$ sont automatiquement injectées."
   ]
  },
  {
   "cell_type": "code",
   "execution_count": 12,
   "metadata": {},
   "outputs": [],
   "source": [
    "rules = {eps(mu, mu, nu, rho): 0,\n",
    "        gamma5(alpha, alpha): 0,\n",
    "        dirac_gamma(alpha, alpha, mu): 0,\n",
    "        dirac_gamma(alpha, beta, mu)*gamma5(beta, alpha): 0,\n",
    "        dirac_gamma(alpha, beta, mu)*dirac_gamma(beta, kappa, nu)*gamma5(kappa, alpha): 0,\n",
    "        dirac_gamma(alpha, beta, mu)*dirac_gamma(beta, alpha, nu): 4*g(mu, nu),\n",
    "        dirac_gamma(alpha, beta, mu)*dirac_gamma(beta, sigma, mu): 4*delta(alpha, sigma),\n",
    "        dirac_gamma(alpha, beta, mu)*dirac_gamma(beta, sigma, nu)*dirac_gamma(sigma, eta, rho):\n",
    "                   g(mu, nu)*dirac_gamma(alpha, eta, rho)+g(nu, rho)*dirac_gamma(alpha, eta, mu)\n",
    "                  -g(mu, rho)*dirac_gamma(alpha, eta, nu)\n",
    "                  -I*eps(mu, nu, rho, zeta)*dirac_gamma(alpha, beta, zeta)*gamma5(beta, eta), # depends on convention\n",
    "        gamma5(alpha, beta)*gamma5(beta, sigma): delta(alpha, sigma),\n",
    "        gamma5(alpha, beta)*dirac_gamma(beta, sigma, mu)*gamma5(sigma, kappa): -dirac_gamma(alpha, kappa, mu),\n",
    "        gamma5(alpha, beta)*dirac_gamma(beta, sigma, mu)*dirac_gamma(sigma, kappa, nu)*gamma5(kappa, theta): \n",
    "                     dirac_gamma(alpha, sigma, mu)*dirac_gamma(sigma, theta, nu)}"
   ]
  },
  {
   "cell_type": "markdown",
   "metadata": {},
   "source": [
    "La dernière règle est pénible à taper (24 termes). Pour simplifier, on utilise la fonction ``sage.combinat.symmetric_group_algebra.e``, (importée ici sous le nom ``young_symmetrizer``) afin de générer toutes les permutations ansi que leur signe, soit 24 termes au total"
   ]
  },
  {
   "cell_type": "code",
   "execution_count": 13,
   "metadata": {},
   "outputs": [
    {
     "data": {
      "text/html": [
       "<html><script type=\"math/tex; mode=display\">\\newcommand{\\Bold}[1]{\\mathbf{#1}}24</script></html>"
      ],
      "text/plain": [
       "24"
      ]
     },
     "execution_count": 13,
     "metadata": {},
     "output_type": "execute_result"
    }
   ],
   "source": [
    "ind1 = [mu_1, nu_1, rho_1, sigma_1]\n",
    "ind2 = [mu_2, nu_2, rho_2, sigma_2]\n",
    "EE = eps(*ind1)*eps(*ind2)\n",
    "EE2 = sum(-s*product([g(ind1[i], ind2[perm[i]-1]) for i in range(4)]) for perm, s in young_symmetrizer([[1], [2], [3], [4]]))\n",
    "len(EE2)"
   ]
  },
  {
   "cell_type": "code",
   "execution_count": 14,
   "metadata": {},
   "outputs": [],
   "source": [
    "rules[EE] = EE2"
   ]
  },
  {
   "cell_type": "markdown",
   "metadata": {},
   "source": [
    "## Création de tenseurs composites\n",
    "\n",
    "\n",
    "Une fois tous ces objets crées, il faut les passer à la classe ``tensor_field``, qui s'ocupera ensuite de créer des tenseurs à partir d'expressions symboliques.\n",
    "\n",
    "TODO: optimiser ``tensor_field.__init__``"
   ]
  },
  {
   "cell_type": "code",
   "execution_count": 15,
   "metadata": {},
   "outputs": [],
   "source": [
    "TF = tensor_field(basic_tensors, sym, forced_in, forced_out, rules)"
   ]
  },
  {
   "cell_type": "markdown",
   "metadata": {},
   "source": [
    "Les tenseurs sont crées de la manière suivante :"
   ]
  },
  {
   "cell_type": "code",
   "execution_count": 16,
   "metadata": {},
   "outputs": [],
   "source": [
    "T1 = TF(g(mu, nu))"
   ]
  },
  {
   "cell_type": "code",
   "execution_count": 17,
   "metadata": {},
   "outputs": [
    {
     "name": "stdout",
     "output_type": "stream",
     "text": [
      "<__main__.tensor object at 0x6fd0ada3080>\n"
     ]
    }
   ],
   "source": [
    "print(T1)"
   ]
  },
  {
   "cell_type": "markdown",
   "metadata": {},
   "source": [
    "TODO: implémenter quelque chose de mieux\n",
    "\n",
    "Si l'option ``%display latex`` est activée, le tenseur d'affichera sous la forme d'une expression symbolique"
   ]
  },
  {
   "cell_type": "code",
   "execution_count": 18,
   "metadata": {},
   "outputs": [
    {
     "data": {
      "text/html": [
       "<html><script type=\"math/tex; mode=display\">\\newcommand{\\Bold}[1]{\\mathbf{#1}}g\\left(\\mu, \\nu\\right)</script></html>"
      ],
      "text/plain": [
       "<__main__.tensor object at 0x6fd0ada3080>"
      ]
     },
     "execution_count": 18,
     "metadata": {},
     "output_type": "execute_result"
    }
   ],
   "source": [
    "T1"
   ]
  },
  {
   "cell_type": "markdown",
   "metadata": {},
   "source": [
    "Remarque : Si des indices muets apparaissent dans l'expression symbolique, il n'y a pas de raison qu'ils soient les même que lors de la déclaration."
   ]
  },
  {
   "cell_type": "code",
   "execution_count": 19,
   "metadata": {},
   "outputs": [
    {
     "data": {
      "text/html": [
       "<html><script type=\"math/tex; mode=display\">\\newcommand{\\Bold}[1]{\\mathbf{#1}}g\\left(\\mu, \\rho\\right) g\\left(\\rho, \\nu\\right)</script></html>"
      ],
      "text/plain": [
       "<__main__.tensor object at 0x6fd0af384a8>"
      ]
     },
     "execution_count": 19,
     "metadata": {},
     "output_type": "execute_result"
    }
   ],
   "source": [
    "T2 = TF(g(mu, sigma)*g(sigma, nu))\n",
    "T2"
   ]
  },
  {
   "cell_type": "markdown",
   "metadata": {},
   "source": [
    "On peut ajouter des tenseurs :"
   ]
  },
  {
   "cell_type": "code",
   "execution_count": 20,
   "metadata": {},
   "outputs": [
    {
     "data": {
      "text/html": [
       "<html><script type=\"math/tex; mode=display\">\\newcommand{\\Bold}[1]{\\mathbf{#1}}g\\left(\\mu, \\rho\\right) g\\left(\\rho, \\nu\\right) + g\\left(\\mu, \\nu\\right)</script></html>"
      ],
      "text/plain": [
       "<__main__.tensor object at 0x6fda7b07d30>"
      ]
     },
     "execution_count": 20,
     "metadata": {},
     "output_type": "execute_result"
    }
   ],
   "source": [
    "T1+T2"
   ]
  },
  {
   "cell_type": "markdown",
   "metadata": {},
   "source": [
    "Si deux tenseurs n'ont aucun indices en commun, on peut obtenir le produit tensoriel en les multipliant :"
   ]
  },
  {
   "cell_type": "code",
   "execution_count": 21,
   "metadata": {},
   "outputs": [
    {
     "data": {
      "text/html": [
       "<html><script type=\"math/tex; mode=display\">\\newcommand{\\Bold}[1]{\\mathbf{#1}}g\\left(\\mu, \\nu\\right) g\\left(\\rho, \\sigma\\right)</script></html>"
      ],
      "text/plain": [
       "<__main__.tensor object at 0x6fd0bf08518>"
      ]
     },
     "execution_count": 21,
     "metadata": {},
     "output_type": "execute_result"
    }
   ],
   "source": [
    "TF(g(mu, nu))*TF(g(rho, sigma))"
   ]
  },
  {
   "cell_type": "markdown",
   "metadata": {},
   "source": [
    "TODO: Vérifier que les indices sont combatibles, les contracter sinon, ou renvoyer une erreur.  \n",
    "TODO: Ajouter les autres opérations usuelles: soustraction, contraction, ...\n",
    "\n",
    "## Simplifications\n",
    "\n",
    "Simplifier un tenseur se fait avec la méthode ``simplify``. Contrairement à ``SR`` et pour des raisons de performance, la fonction modifie le tenseur et ne renvoie rien."
   ]
  },
  {
   "cell_type": "code",
   "execution_count": 22,
   "metadata": {},
   "outputs": [
    {
     "data": {
      "text/html": [
       "<html><script type=\"math/tex; mode=display\">\\newcommand{\\Bold}[1]{\\mathbf{#1}}g\\left(\\mu, \\rho\\right) g\\left(\\rho, \\nu\\right)</script></html>"
      ],
      "text/plain": [
       "<__main__.tensor object at 0x6fd0af384a8>"
      ]
     },
     "metadata": {},
     "output_type": "display_data"
    },
    {
     "data": {
      "text/html": [
       "<html><script type=\"math/tex; mode=display\">\\newcommand{\\Bold}[1]{\\mathbf{#1}}g\\left(\\mu, \\nu\\right)</script></html>"
      ],
      "text/plain": [
       "<__main__.tensor object at 0x6fd0af384a8>"
      ]
     },
     "execution_count": 22,
     "metadata": {},
     "output_type": "execute_result"
    }
   ],
   "source": [
    "display(T2)\n",
    "T2.simplify()\n",
    "T2"
   ]
  },
  {
   "cell_type": "markdown",
   "metadata": {},
   "source": [
    "Une autre option pour simplifier rapidement un tenseur est de directement passer par la classe ``tensor_field`` :"
   ]
  },
  {
   "cell_type": "code",
   "execution_count": 23,
   "metadata": {},
   "outputs": [
    {
     "data": {
      "text/html": [
       "<html><script type=\"math/tex; mode=display\">\\newcommand{\\Bold}[1]{\\mathbf{#1}}g\\left(\\mu, \\nu\\right)</script></html>"
      ],
      "text/plain": [
       "g(mu, nu)"
      ]
     },
     "execution_count": 23,
     "metadata": {},
     "output_type": "execute_result"
    }
   ],
   "source": [
    "TF.simplify(g(mu, sigma)*g(sigma, nu))"
   ]
  },
  {
   "cell_type": "markdown",
   "metadata": {},
   "source": [
    "Vérifions par exemple la formule bien connue pour la trace de 4 matrices gamma."
   ]
  },
  {
   "cell_type": "code",
   "execution_count": 24,
   "metadata": {},
   "outputs": [
    {
     "data": {
      "text/html": [
       "<html><script type=\"math/tex; mode=display\">\\newcommand{\\Bold}[1]{\\mathbf{#1}}-4 \\, g\\left(\\nu, \\sigma\\right) g\\left(\\rho, \\mu\\right) + 4 \\, g\\left(\\nu, \\mu\\right) g\\left(\\rho, \\sigma\\right) + 4 \\, g\\left(\\nu, \\rho\\right) g\\left(\\sigma, \\mu\\right)</script></html>"
      ],
      "text/plain": [
       "-4*g(nu, sigma)*g(rho, mu) + 4*g(nu, mu)*g(rho, sigma) + 4*g(nu, rho)*g(sigma, mu)"
      ]
     },
     "execution_count": 24,
     "metadata": {},
     "output_type": "execute_result"
    }
   ],
   "source": [
    "TF.simplify(dirac_gamma(alpha, beta, mu)*dirac_gamma(beta, theta, nu)*\n",
    "            dirac_gamma(theta, kappa, rho)*dirac_gamma(kappa, alpha, sigma))"
   ]
  },
  {
   "cell_type": "markdown",
   "metadata": {},
   "source": [
    "## Plot\n",
    "\n",
    "Parfois il peut être difficile de trouver toutes les contractions dans une expression symbolique, et de distinguer les indices externes et les indices muets. Il peut alors être utile de visualiser la structure du tenseur avec la méthode ``plot``.\n",
    "\n",
    "\n",
    "Cette méthode est très lente (3 secondes chez moi) puisqu'elle nécessite un appel à ``pdflatex``, qui doit être installé sur le système. De plus le module \"tikz\" doit être disponible. Le fichier tex est automatiquement généré par network2tikz, compilé en pdf, puis redimensionné et converti en png avant d'être affiché. Tous les fichiers temporaires sont ensuite nettoyés.\n",
    "\n",
    "Pour plus de fluidité, l'option ``threaded=True`` peut être utilisée, ce qui permet de lancer la compilation latex dans un autre thread. Dans ce cas l'execution de la cellule sera quasi-instantané, et l'image apparaitra quelques secondes plus tard. Pour des raison qui m'échappent, sur mon système actuel le thread plante environ une fois sur 3 et le nettoyage ne se fait parfois pas. Donc \"use at your own risk\".\n",
    "\n",
    "TODO: fix that\n",
    "\n",
    "Dans la figure obtenue, chaque noeud vert correspond à un tenseur, et chaque noeud bleu à un indice non contracté. Les arêtes représentent une ou plusieurs contractions entre deux tenseurs. L'étiquette des arêtes indique quels sont les indices contractés, avec la syntaxe ``(position sur le tenseur de départ, position sur le tenseur d'arrivée)``. Chaque couleur d'arête correspond à un espace de contraction.\n",
    "\n",
    "TODO: rendre ces couleurs déterministes\n",
    "\n",
    "Voici l'exemple d'un tenseur composé de 6 matrices gamma. noté de cette manière, il est difficile de savoir lesquels parmi les 18 indices sont contractés."
   ]
  },
  {
   "cell_type": "code",
   "execution_count": 25,
   "metadata": {},
   "outputs": [
    {
     "data": {
      "text/html": [
       "<html><script type=\"math/tex; mode=display\">\\newcommand{\\Bold}[1]{\\mathbf{#1}}\\gamma\\left(\\eta, \\kappa, \\beta\\right) \\gamma\\left(\\kappa, \\mu, \\nu\\right) \\gamma\\left(\\mu, \\rho, \\sigma\\right) \\gamma\\left(\\rho, \\theta, \\alpha\\right) \\gamma\\left(\\theta, \\zeta, \\sigma\\right) \\gamma\\left(\\zeta, \\eta, \\nu\\right)</script></html>"
      ],
      "text/plain": [
       "<__main__.tensor object at 0x6fd091bfc50>"
      ]
     },
     "execution_count": 25,
     "metadata": {},
     "output_type": "execute_result"
    }
   ],
   "source": [
    "expr = dirac_gamma(alpha_1, beta_1, mu)*dirac_gamma(beta_1, kappa, nu)* \\\n",
    "       dirac_gamma(kappa, theta, alpha)*dirac_gamma(theta, zeta, nu)* \\\n",
    "       dirac_gamma(zeta, eta, mu)*dirac_gamma(eta, alpha_1, beta) # 6 matrices gamma, un bazar d'indices\n",
    "\n",
    "T = TF(expr)\n",
    "T"
   ]
  },
  {
   "cell_type": "code",
   "execution_count": 26,
   "metadata": {},
   "outputs": [
    {
     "data": {
      "image/png": "[encoded data removed]",
      "text/plain": [
       "<IPython.core.display.Image object>"
      ]
     },
     "metadata": {},
     "output_type": "display_data"
    }
   ],
   "source": [
    "T.plot(size=14)"
   ]
  },
  {
   "cell_type": "markdown",
   "metadata": {},
   "source": [
    "On voit ici très clairement qu'il s'agit d'un tenseur à deux indices, vivant dans l'espace de Minkowski, formé à partir d'une trace de 6 matrices gamma dont 4 ont été contractées entre elles. La simplification donne :"
   ]
  },
  {
   "cell_type": "code",
   "execution_count": 27,
   "metadata": {},
   "outputs": [
    {
     "data": {
      "text/html": [
       "<html><script type=\"math/tex; mode=display\">\\newcommand{\\Bold}[1]{\\mathbf{#1}}16 \\, g\\left(\\beta, \\alpha\\right)</script></html>"
      ],
      "text/plain": [
       "<__main__.tensor object at 0x6fd091bfc50>"
      ]
     },
     "execution_count": 27,
     "metadata": {},
     "output_type": "execute_result"
    }
   ],
   "source": [
    "T.simplify()\n",
    "T"
   ]
  },
  {
   "cell_type": "markdown",
   "metadata": {},
   "source": [
    "Le positionement des noeuds est obtenu par minimisation sous contraintes d'un potentiel : harmonique si deux noeuds sont reliés par une arête (attractif ou répulsif selon la distance) et électrostatique entre toutes les paires de noeuds non reliées (répulsif). \n",
    "\n",
    "Si le tenseur est un produit tensoriel, le graphe comporte plusieurs composantes connexes, qui se repoussent de manière éléctrostatiques. Il est alors utile de changer la longeur cible des arêtes.\n",
    "\n",
    "TODO: Faire ça automatiquement  \n",
    "TODO: Ajouter une option (argument ``seed``) pour rendre la position de départ de la minimisation déterministe.  \n",
    "TODO: Chercher un minimum global au lieu de se contenter d'un minimum local."
   ]
  },
  {
   "cell_type": "code",
   "execution_count": 28,
   "metadata": {},
   "outputs": [
    {
     "data": {
      "image/png": "[encoded data removed]",
      "text/plain": [
       "<IPython.core.display.Image object>"
      ]
     },
     "metadata": {},
     "output_type": "display_data"
    }
   ],
   "source": [
    "TF(g(mu, nu)*g(rho, sigma)).plot(size=8)"
   ]
  },
  {
   "cell_type": "code",
   "execution_count": 29,
   "metadata": {},
   "outputs": [
    {
     "data": {
      "image/png": "[encoded data removed]",
      "text/plain": [
       "<IPython.core.display.Image object>"
      ]
     },
     "metadata": {},
     "output_type": "display_data"
    }
   ],
   "source": [
    "TF(g(mu, nu)*g(rho, sigma)).plot(size=8, edge_length=0.8)"
   ]
  },
  {
   "cell_type": "markdown",
   "metadata": {},
   "source": [
    "Si le tenseur une somme d'autres tenseurs, toutes les composantes sont affichées une par une, ce qui peut prendre un certain temps."
   ]
  },
  {
   "cell_type": "code",
   "execution_count": 30,
   "metadata": {},
   "outputs": [],
   "source": [
    "T = TF(expr) # reinitialise le tenseur"
   ]
  },
  {
   "cell_type": "code",
   "execution_count": 31,
   "metadata": {},
   "outputs": [
    {
     "data": {
      "text/html": [
       "<html><script type=\"math/tex; mode=display\">\\newcommand{\\Bold}[1]{\\mathbf{#1}}-i \\, \\gamma\\left(\\eta, \\mu, \\nu\\right) \\gamma\\left(\\mu, \\rho, \\alpha\\right) \\gamma\\left(\\rho, \\sigma, \\nu\\right) \\gamma\\left(\\sigma, \\kappa, \\theta\\right) \\epsilon\\left(\\zeta, \\beta, \\zeta, \\theta\\right) \\gamma_5\\left(\\kappa, \\eta\\right) + \\gamma\\left(\\kappa, \\mu, \\nu\\right) \\gamma\\left(\\mu, \\rho, \\alpha\\right) \\gamma\\left(\\rho, \\sigma, \\nu\\right) \\gamma\\left(\\sigma, \\kappa, \\theta\\right) g\\left(\\beta, \\theta\\right) + \\gamma\\left(\\kappa, \\mu, \\nu\\right) \\gamma\\left(\\mu, \\rho, \\alpha\\right) \\gamma\\left(\\rho, \\sigma, \\nu\\right) \\gamma\\left(\\sigma, \\kappa, \\theta\\right) g\\left(\\theta, \\beta\\right) - \\gamma\\left(\\kappa, \\mu, \\nu\\right) \\gamma\\left(\\mu, \\rho, \\alpha\\right) \\gamma\\left(\\rho, \\sigma, \\nu\\right) \\gamma\\left(\\sigma, \\kappa, \\beta\\right) g\\left(\\theta, \\theta\\right)</script></html>"
      ],
      "text/plain": [
       "<__main__.tensor object at 0x6fd091bfd30>"
      ]
     },
     "execution_count": 31,
     "metadata": {},
     "output_type": "execute_result"
    }
   ],
   "source": [
    "T.simplify_step() # applique uniquement une seule étape de simplification\n",
    "T"
   ]
  },
  {
   "cell_type": "code",
   "execution_count": 32,
   "metadata": {},
   "outputs": [
    {
     "data": {
      "image/png": "[encoded data removed]",
      "text/plain": [
       "<IPython.core.display.Image object>"
      ]
     },
     "metadata": {},
     "output_type": "display_data"
    },
    {
     "data": {
      "image/png": "[encoded data removed]",
      "text/plain": [
       "<IPython.core.display.Image object>"
      ]
     },
     "metadata": {},
     "output_type": "display_data"
    },
    {
     "data": {
      "image/png": "[encoded data removed]",
      "text/plain": [
       "<IPython.core.display.Image object>"
      ]
     },
     "metadata": {},
     "output_type": "display_data"
    },
    {
     "data": {
      "image/png": "[encoded data removed]",
      "text/plain": [
       "<IPython.core.display.Image object>"
      ]
     },
     "metadata": {},
     "output_type": "display_data"
    },
    {
     "data": {
      "application/vnd.jupyter.widget-view+json": {
       "model_id": "755c75a5460640ed899b1055354f1990",
       "version_major": 2,
       "version_minor": 0
      },
      "text/plain": [
       "Output()"
      ]
     },
     "metadata": {},
     "output_type": "display_data"
    }
   ],
   "source": [
    "T.plot(size=14, edge_length=0.45)"
   ]
  },
  {
   "cell_type": "markdown",
   "metadata": {},
   "source": [
    "L'algorithme tente également d'orienter le graphe de manière à minimiser l'espace vertical. Ce qui conduit en générale à des résultats assez prévisibles."
   ]
  },
  {
   "cell_type": "code",
   "execution_count": 33,
   "metadata": {},
   "outputs": [
    {
     "data": {
      "text/html": [
       "<html><script type=\"math/tex; mode=display\">\\newcommand{\\Bold}[1]{\\mathbf{#1}}\\gamma\\left(\\rho, \\sigma, \\nu\\right) \\gamma\\left(\\sigma, \\rho, \\mu\\right) + \\epsilon\\left(\\mu, \\nu, \\rho, \\rho\\right) + g\\left(\\mu, \\nu\\right)</script></html>"
      ],
      "text/plain": [
       "<__main__.tensor object at 0x6fd091bf710>"
      ]
     },
     "execution_count": 33,
     "metadata": {},
     "output_type": "execute_result"
    }
   ],
   "source": [
    "TF(g(mu, nu)+dirac_gamma(alpha, beta, mu)*dirac_gamma(beta, alpha, nu)+eps(mu, nu, rho, rho))"
   ]
  },
  {
   "cell_type": "code",
   "execution_count": 34,
   "metadata": {},
   "outputs": [
    {
     "data": {
      "image/png": "[encoded data removed]",
      "text/plain": [
       "<IPython.core.display.Image object>"
      ]
     },
     "metadata": {},
     "output_type": "display_data"
    },
    {
     "data": {
      "image/png": "[encoded data removed]",
      "text/plain": [
       "<IPython.core.display.Image object>"
      ]
     },
     "metadata": {},
     "output_type": "display_data"
    },
    {
     "data": {
      "image/png": "[encoded data removed]",
      "text/plain": [
       "<IPython.core.display.Image object>"
      ]
     },
     "metadata": {},
     "output_type": "display_data"
    },
    {
     "data": {
      "application/vnd.jupyter.widget-view+json": {
       "model_id": "85fdeb71de594089bad9bec8e66ad436",
       "version_major": 2,
       "version_minor": 0
      },
      "text/plain": [
       "Output()"
      ]
     },
     "metadata": {},
     "output_type": "display_data"
    }
   ],
   "source": [
    "_.plot()"
   ]
  },
  {
   "cell_type": "markdown",
   "metadata": {},
   "source": [
    "## Reste à faire\n",
    "\n",
    "En plus des 19 TODO déjà présents plus haut :\n",
    "\n",
    "- Nettoyer le code.  \n",
    "- Modifier le code pour l'ajouter aux sources, pas juste un notebook.  \n",
    "- Prédéfinir un certain nombre de ``tensor_field`` (Clifford, SU(N), Minkowski).  \n",
    "- Implémenter un produit tensoriel entre ``tensor_field``.  \n",
    "- Permettre l'ajouts de tenseurs après l'initialisation.  \n",
    "- Conjugaison, transposée, adjoint, trace  \n",
    "- Implémenter les opérations de dérivation (nouveau type de noeud et d'arête ?).  \n",
    "- Dérivation fonctionnelle par rapport à l'un des tenseur de base.  \n",
    "- Trouver quelque chose d'utile à faire à partir des relations de commutation  \n",
    "- Et plein d'autres choses encore...  \n",
    "\n"
   ]
  },
  {
   "cell_type": "code",
   "execution_count": 36,
   "metadata": {},
   "outputs": [
    {
     "data": {
      "text/html": [
       "<html><script type=\"math/tex; mode=display\">\\newcommand{\\Bold}[1]{\\mathbf{#1}}\\left\\{g : \\left\\{\\left(0, 1\\right) : 1, \\left(1, 0\\right) : 1\\right\\}, \\epsilon : \\left\\{\\left(0, 1, 2, 3\\right) : 1, \\left(0, 1, 3, 2\\right) : -1, \\left(0, 2, 1, 3\\right) : -1, \\left(0, 3, 1, 2\\right) : 1, \\left(0, 2, 3, 1\\right) : 1, \\left(0, 3, 2, 1\\right) : -1, \\left(1, 0, 2, 3\\right) : -1, \\left(1, 0, 3, 2\\right) : 1, \\left(2, 0, 1, 3\\right) : 1, \\left(3, 0, 1, 2\\right) : -1, \\left(2, 0, 3, 1\\right) : -1, \\left(3, 0, 2, 1\\right) : 1, \\left(1, 2, 0, 3\\right) : 1, \\left(1, 3, 0, 2\\right) : -1, \\left(2, 1, 0, 3\\right) : -1, \\left(3, 1, 0, 2\\right) : 1, \\left(2, 3, 0, 1\\right) : 1, \\left(3, 2, 0, 1\\right) : -1, \\left(1, 2, 3, 0\\right) : -1, \\left(1, 3, 2, 0\\right) : 1, \\left(2, 1, 3, 0\\right) : 1, \\left(3, 1, 2, 0\\right) : -1, \\left(2, 3, 1, 0\\right) : -1, \\left(3, 2, 1, 0\\right) : 1\\right\\}, R : \\left\\{\\left(0, 1, 2, 3\\right) : 1, \\left(0, 1, 3, 2\\right) : -1, \\left(1, 0, 2, 3\\right) : -1, \\left(1, 0, 3, 2\\right) : 1, \\left(2, 3, 0, 1\\right) : 1, \\left(3, 2, 0, 1\\right) : -1, \\left(2, 3, 1, 0\\right) : -1, \\left(3, 2, 1, 0\\right) : 1\\right\\}, \\gamma : \\left\\{\\left(0, 1, 2\\right) : 1\\right\\}, \\gamma_5 : \\left\\{\\left(0, 1\\right) : 1\\right\\}, \\delta : \\left\\{\\left(0, 1\\right) : 1, \\left(1, 0\\right) : 1\\right\\}, p : \\left\\{\\left(0\\right) : 1\\right\\}, k : \\left\\{\\left(0\\right) : 1\\right\\}\\right\\}</script></html>"
      ],
      "text/plain": [
       "{g: {(0, 1): 1, (1, 0): 1},\n",
       " eps: {(0, 1, 2, 3): 1,\n",
       "  (0, 1, 3, 2): -1,\n",
       "  (0, 2, 1, 3): -1,\n",
       "  (0, 3, 1, 2): 1,\n",
       "  (0, 2, 3, 1): 1,\n",
       "  (0, 3, 2, 1): -1,\n",
       "  (1, 0, 2, 3): -1,\n",
       "  (1, 0, 3, 2): 1,\n",
       "  (2, 0, 1, 3): 1,\n",
       "  (3, 0, 1, 2): -1,\n",
       "  (2, 0, 3, 1): -1,\n",
       "  (3, 0, 2, 1): 1,\n",
       "  (1, 2, 0, 3): 1,\n",
       "  (1, 3, 0, 2): -1,\n",
       "  (2, 1, 0, 3): -1,\n",
       "  (3, 1, 0, 2): 1,\n",
       "  (2, 3, 0, 1): 1,\n",
       "  (3, 2, 0, 1): -1,\n",
       "  (1, 2, 3, 0): -1,\n",
       "  (1, 3, 2, 0): 1,\n",
       "  (2, 1, 3, 0): 1,\n",
       "  (3, 1, 2, 0): -1,\n",
       "  (2, 3, 1, 0): -1,\n",
       "  (3, 2, 1, 0): 1},\n",
       " R: {(0, 1, 2, 3): 1,\n",
       "  (0, 1, 3, 2): -1,\n",
       "  (1, 0, 2, 3): -1,\n",
       "  (1, 0, 3, 2): 1,\n",
       "  (2, 3, 0, 1): 1,\n",
       "  (3, 2, 0, 1): -1,\n",
       "  (2, 3, 1, 0): -1,\n",
       "  (3, 2, 1, 0): 1},\n",
       " dirac_gamma: {(0, 1, 2): 1},\n",
       " gamma_5: {(0, 1): 1},\n",
       " delta: {(0, 1): 1, (1, 0): 1},\n",
       " p: {(0,): 1},\n",
       " k: {(0,): 1}}"
      ]
     },
     "execution_count": 36,
     "metadata": {},
     "output_type": "execute_result"
    }
   ],
   "source": [
    "TF.index_permutations"
   ]
  },
  {
   "cell_type": "code",
   "execution_count": null,
   "metadata": {},
   "outputs": [],
   "source": []
  }
 ],
 "metadata": {
  "kernelspec": {
   "display_name": "SageMath 9.0",
   "language": "sage",
   "name": "sagemath"
  },
  "language_info": {
   "codemirror_mode": {
    "name": "ipython",
    "version": 3
   },
   "file_extension": ".py",
   "mimetype": "text/x-python",
   "name": "python",
   "nbconvert_exporter": "python",
   "pygments_lexer": "ipython3",
   "version": "3.7.3"
  }
 },
 "nbformat": 4,
 "nbformat_minor": 2
}
